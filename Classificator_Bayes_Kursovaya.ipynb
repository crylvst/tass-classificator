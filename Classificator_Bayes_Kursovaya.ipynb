{
 "cells": [
  {
   "cell_type": "code",
   "execution_count": 1,
   "id": "c71644fc",
   "metadata": {},
   "outputs": [],
   "source": [
    "import re\n",
    "import string\n",
    "\n",
    "import pandas as pd\n",
    "import nltk\n",
    "# nltk.download('stopwords')\n",
    "from nltk.corpus import stopwords\n",
    "from pymystem3 import Mystem\n",
    "from string import punctuation"
   ]
  },
  {
   "cell_type": "code",
   "execution_count": 2,
   "id": "c5a24570",
   "metadata": {},
   "outputs": [],
   "source": [
    "# функции для очистки текста\n",
    "def remove_URL(text):\n",
    "    url = re.compile(r'https?://\\S+|www\\.\\S+')\n",
    "    return url.sub(r'', text)\n",
    "\n",
    "def remove_HTML(text):\n",
    "    html = re.compile(r'<.*?>')\n",
    "    return html.sub(r'', text)\n",
    "\n",
    "def remove_numbers(text):\n",
    "    num = re.compile(r'\\d+')\n",
    "    return num.sub(r'', text)\n",
    "\n",
    "def remove_spaces(text):\n",
    "    spaces = re.compile(r'  ')\n",
    "    return spaces.sub(r' ', text)\n",
    "\n",
    "def remove_punct(text):\n",
    "    punct = re.compile(r'[^\\w\\s]')\n",
    "    return punct.sub(r'', text) \n",
    "\n",
    "def remove_months(text):\n",
    "    months = ['январь', 'февраль', 'март', 'апрель', 'май', 'июнь',\n",
    "              'июль', 'август', 'сентябрь', 'октябрь', 'ноябрь', 'декабрь']\n",
    "    for elm in months:\n",
    "        text = text.replace(elm, '')\n",
    "    return text\n",
    "\n",
    "def remove_wordsNumbers(text):\n",
    "    numbers = ['год', 'млн', 'тыс', 'км', 'млрд', 'тонна', 'возраст', 'гг', 'назад']\n",
    "    for i in numbers:\n",
    "        text = text.replace(i, '')\n",
    "    return text\n",
    "    \n",
    "def remove_useless(text):\n",
    "    useless = ['это', 'который', 'тасс', 'twitter', 'понедельник', 'вторник', 'среда',\n",
    "               'четверг', 'пятница', 'суббота', 'воскресенье']\n",
    "    for _ in useless:\n",
    "        text = text.replace(_, '')\n",
    "    return text\n",
    "\n",
    "def clean_text(text):\n",
    "    text = remove_URL(text)\n",
    "    text = remove_HTML(text)\n",
    "    text = remove_numbers(text)\n",
    "    text = remove_punct(text)\n",
    "    return text\n",
    "\n",
    "# функция лемматизации\n",
    "mystem = Mystem()\n",
    "russian_stopwords = stopwords.words(\"russian\")\n",
    "\n",
    "def preprocess_text(text):\n",
    "    tokens = mystem.lemmatize(text.lower())\n",
    "    tokens = [token for token in tokens if token not in russian_stopwords \\\n",
    "              and token != \" \" \\\n",
    "              and token.strip() not in punctuation]\n",
    "\n",
    "    text = \" \".join(tokens)\n",
    "\n",
    "    return text"
   ]
  },
  {
   "cell_type": "code",
   "execution_count": 3,
   "id": "713cbeaf",
   "metadata": {},
   "outputs": [],
   "source": [
    "df_tass = pd.read_csv(\"C:/Users/hp/TASS_news/nonan/TASS_texts_nonan_FINAL.csv\")"
   ]
  },
  {
   "cell_type": "code",
   "execution_count": 4,
   "id": "72394f39",
   "metadata": {},
   "outputs": [
    {
     "data": {
      "text/html": [
       "<div>\n",
       "<style scoped>\n",
       "    .dataframe tbody tr th:only-of-type {\n",
       "        vertical-align: middle;\n",
       "    }\n",
       "\n",
       "    .dataframe tbody tr th {\n",
       "        vertical-align: top;\n",
       "    }\n",
       "\n",
       "    .dataframe thead th {\n",
       "        text-align: right;\n",
       "    }\n",
       "</style>\n",
       "<table border=\"1\" class=\"dataframe\">\n",
       "  <thead>\n",
       "    <tr style=\"text-align: right;\">\n",
       "      <th></th>\n",
       "      <th>Unnamed: 0</th>\n",
       "      <th>Unnamed: 0.1</th>\n",
       "      <th>Unnamed: 0.1.1</th>\n",
       "      <th>Head</th>\n",
       "      <th>Lead</th>\n",
       "      <th>Text</th>\n",
       "      <th>Rubric</th>\n",
       "      <th>Classi</th>\n",
       "      <th>Clean_text</th>\n",
       "    </tr>\n",
       "  </thead>\n",
       "  <tbody>\n",
       "    <tr>\n",
       "      <th>453257</th>\n",
       "      <td>453257</td>\n",
       "      <td>100005</td>\n",
       "      <td>100005</td>\n",
       "      <td>Сборные Латвии и Австрии по хоккею не будут пр...</td>\n",
       "      <td>Причины отмены занятий не называются</td>\n",
       "      <td>СОЧИ, 8 февраля. /ИТАР-ТАСС/. Ледовые трениров...</td>\n",
       "      <td>sport</td>\n",
       "      <td>2</td>\n",
       "      <td>сочи итартасс ледовый тренировка мужской сборн...</td>\n",
       "    </tr>\n",
       "    <tr>\n",
       "      <th>453258</th>\n",
       "      <td>453258</td>\n",
       "      <td>100006</td>\n",
       "      <td>100006</td>\n",
       "      <td>\"Миннесота\" без Алексея Шведа проиграла клубу ...</td>\n",
       "      <td>Российский защитник попал в заявку на игру, но...</td>\n",
       "      <td>ВАШИНГТОН, 8 февраля. /ИТАР-ТАСС/. Команда \"Ми...</td>\n",
       "      <td>sport</td>\n",
       "      <td>2</td>\n",
       "      <td>вашингтон итартасс команда миннесота тимбервул...</td>\n",
       "    </tr>\n",
       "    <tr>\n",
       "      <th>453259</th>\n",
       "      <td>453259</td>\n",
       "      <td>100007</td>\n",
       "      <td>100007</td>\n",
       "      <td>Российские олимпийцы одолжили немецким лыжника...</td>\n",
       "      <td>Изначально просьбу немцев отклонили сборные Ав...</td>\n",
       "      <td>БЕРЛИН, 8 февраля. /Корр. ИТАР-ТАСС Антон Долг...</td>\n",
       "      <td>sport</td>\n",
       "      <td>2</td>\n",
       "      <td>берлин корра итартасс антон долгунов российски...</td>\n",
       "    </tr>\n",
       "    <tr>\n",
       "      <th>453260</th>\n",
       "      <td>453260</td>\n",
       "      <td>100008</td>\n",
       "      <td>100008</td>\n",
       "      <td>Олимпийская чемпионка в сноуборде канадка Рике...</td>\n",
       "      <td>Рикер сломала запястье во время тренировки три...</td>\n",
       "      <td>ОТТАВА, 8 февраля. /ИТАР-ТАСС/. Канадка Маэль ...</td>\n",
       "      <td>sport</td>\n",
       "      <td>2</td>\n",
       "      <td>оттава итартасс канадка маэль рикер выигрывать...</td>\n",
       "    </tr>\n",
       "    <tr>\n",
       "      <th>453261</th>\n",
       "      <td>453261</td>\n",
       "      <td>100009</td>\n",
       "      <td>100009</td>\n",
       "      <td>Сборная России проиграла второй матч команде А...</td>\n",
       "      <td>Вероника Кудерметова в двух сетах уступила Сам...</td>\n",
       "      <td>СИДНЕЙ, 8 февраля. /ИТАР-ТАСС/. Сборная России...</td>\n",
       "      <td>sport</td>\n",
       "      <td>2</td>\n",
       "      <td>сидней итартасс сборная россия проигрывать ком...</td>\n",
       "    </tr>\n",
       "  </tbody>\n",
       "</table>\n",
       "</div>"
      ],
      "text/plain": [
       "        Unnamed: 0  Unnamed: 0.1  Unnamed: 0.1.1  \\\n",
       "453257      453257        100005          100005   \n",
       "453258      453258        100006          100006   \n",
       "453259      453259        100007          100007   \n",
       "453260      453260        100008          100008   \n",
       "453261      453261        100009          100009   \n",
       "\n",
       "                                                     Head  \\\n",
       "453257  Сборные Латвии и Австрии по хоккею не будут пр...   \n",
       "453258  \"Миннесота\" без Алексея Шведа проиграла клубу ...   \n",
       "453259  Российские олимпийцы одолжили немецким лыжника...   \n",
       "453260  Олимпийская чемпионка в сноуборде канадка Рике...   \n",
       "453261  Сборная России проиграла второй матч команде А...   \n",
       "\n",
       "                                                     Lead  \\\n",
       "453257               Причины отмены занятий не называются   \n",
       "453258  Российский защитник попал в заявку на игру, но...   \n",
       "453259  Изначально просьбу немцев отклонили сборные Ав...   \n",
       "453260  Рикер сломала запястье во время тренировки три...   \n",
       "453261  Вероника Кудерметова в двух сетах уступила Сам...   \n",
       "\n",
       "                                                     Text Rubric  Classi  \\\n",
       "453257  СОЧИ, 8 февраля. /ИТАР-ТАСС/. Ледовые трениров...  sport       2   \n",
       "453258  ВАШИНГТОН, 8 февраля. /ИТАР-ТАСС/. Команда \"Ми...  sport       2   \n",
       "453259  БЕРЛИН, 8 февраля. /Корр. ИТАР-ТАСС Антон Долг...  sport       2   \n",
       "453260  ОТТАВА, 8 февраля. /ИТАР-ТАСС/. Канадка Маэль ...  sport       2   \n",
       "453261  СИДНЕЙ, 8 февраля. /ИТАР-ТАСС/. Сборная России...  sport       2   \n",
       "\n",
       "                                               Clean_text  \n",
       "453257  сочи итартасс ледовый тренировка мужской сборн...  \n",
       "453258  вашингтон итартасс команда миннесота тимбервул...  \n",
       "453259  берлин корра итартасс антон долгунов российски...  \n",
       "453260  оттава итартасс канадка маэль рикер выигрывать...  \n",
       "453261  сидней итартасс сборная россия проигрывать ком...  "
      ]
     },
     "execution_count": 4,
     "metadata": {},
     "output_type": "execute_result"
    }
   ],
   "source": [
    "df_tass.tail()"
   ]
  },
  {
   "cell_type": "code",
   "execution_count": 5,
   "id": "3d1b62ac",
   "metadata": {},
   "outputs": [
    {
     "name": "stdout",
     "output_type": "stream",
     "text": [
      "<class 'pandas.core.frame.DataFrame'>\n",
      "RangeIndex: 453262 entries, 0 to 453261\n",
      "Data columns (total 9 columns):\n",
      " #   Column          Non-Null Count   Dtype \n",
      "---  ------          --------------   ----- \n",
      " 0   Unnamed: 0      453262 non-null  int64 \n",
      " 1   Unnamed: 0.1    453262 non-null  int64 \n",
      " 2   Unnamed: 0.1.1  453262 non-null  int64 \n",
      " 3   Head            453262 non-null  object\n",
      " 4   Lead            453262 non-null  object\n",
      " 5   Text            453262 non-null  object\n",
      " 6   Rubric          453262 non-null  object\n",
      " 7   Classi          453262 non-null  int64 \n",
      " 8   Clean_text      453262 non-null  object\n",
      "dtypes: int64(4), object(5)\n",
      "memory usage: 31.1+ MB\n"
     ]
    }
   ],
   "source": [
    "df_tass.info()"
   ]
  },
  {
   "cell_type": "code",
   "execution_count": 6,
   "id": "14a9cf6b",
   "metadata": {},
   "outputs": [],
   "source": [
    "# векторизация\n",
    "\n",
    "from sklearn.feature_extraction.text import TfidfTransformer\n",
    "from sklearn.feature_extraction.text import TfidfVectorizer\n",
    "from sklearn.feature_extraction.text import CountVectorizer\n",
    "\n",
    "vec = CountVectorizer()\n",
    "train_tfidf_vec = vec.fit(df_tass['Clean_text'])  \n",
    "vec_train = train_tfidf_vec.transform(df_tass['Clean_text'])"
   ]
  },
  {
   "cell_type": "code",
   "execution_count": 7,
   "id": "f21cfa67",
   "metadata": {},
   "outputs": [
    {
     "name": "stdout",
     "output_type": "stream",
     "text": [
      "Shape of the train embedded vector is (453262, 411648)\n"
     ]
    }
   ],
   "source": [
    "print(\"Shape of the train embedded vector is {}\".format(vec_train.shape))"
   ]
  },
  {
   "cell_type": "code",
   "execution_count": 8,
   "id": "163cf805",
   "metadata": {},
   "outputs": [],
   "source": [
    "x = vec_train\n",
    "y = df_tass['Classi']"
   ]
  },
  {
   "cell_type": "code",
   "execution_count": 9,
   "id": "e248dc05",
   "metadata": {},
   "outputs": [],
   "source": [
    "from sklearn.model_selection import train_test_split\n",
    "X_train, X_test, y_train, y_test = train_test_split(x, y, test_size=0.2, random_state=0)"
   ]
  },
  {
   "cell_type": "code",
   "execution_count": 10,
   "id": "f3820fb0",
   "metadata": {},
   "outputs": [
    {
     "data": {
      "text/plain": [
       "(362609, 411648)"
      ]
     },
     "execution_count": 10,
     "metadata": {},
     "output_type": "execute_result"
    }
   ],
   "source": [
    "X_train.shape"
   ]
  },
  {
   "cell_type": "code",
   "execution_count": 11,
   "id": "5a413c81",
   "metadata": {},
   "outputs": [
    {
     "data": {
      "text/plain": [
       "(90653,)"
      ]
     },
     "execution_count": 11,
     "metadata": {},
     "output_type": "execute_result"
    }
   ],
   "source": [
    "y_test.shape"
   ]
  },
  {
   "cell_type": "code",
   "execution_count": 12,
   "id": "a9dfd315",
   "metadata": {},
   "outputs": [],
   "source": [
    "# наивный Байес\n",
    "from sklearn.naive_bayes import MultinomialNB\n",
    "from sklearn.metrics import f1_score\n",
    "\n",
    "mnb = MultinomialNB(alpha=1).fit(X_train, y_train)\n",
    "predicted_mnb = mnb.predict(X_test)"
   ]
  },
  {
   "cell_type": "code",
   "execution_count": 13,
   "id": "4f810726",
   "metadata": {},
   "outputs": [
    {
     "data": {
      "text/plain": [
       "0.9893296923892917"
      ]
     },
     "execution_count": 13,
     "metadata": {},
     "output_type": "execute_result"
    }
   ],
   "source": [
    "from sklearn.metrics import roc_auc_score\n",
    "roc_auc_score(y_test, mnb.predict_proba(X_test), multi_class = 'ovo')"
   ]
  }
 ],
 "metadata": {
  "kernelspec": {
   "display_name": "Python 3",
   "language": "python",
   "name": "python3"
  },
  "language_info": {
   "codemirror_mode": {
    "name": "ipython",
    "version": 3
   },
   "file_extension": ".py",
   "mimetype": "text/x-python",
   "name": "python",
   "nbconvert_exporter": "python",
   "pygments_lexer": "ipython3",
   "version": "3.8.10"
  }
 },
 "nbformat": 4,
 "nbformat_minor": 5
}
